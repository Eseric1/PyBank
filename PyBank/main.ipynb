{
 "cells": [
  {
   "cell_type": "code",
   "execution_count": 2,
   "metadata": {},
   "outputs": [],
   "source": [
    "from pathlib import Path\n",
    "import csv"
   ]
  },
  {
   "cell_type": "code",
   "execution_count": 187,
   "metadata": {},
   "outputs": [
    {
     "name": "stdout",
     "output_type": "stream",
     "text": [
      "['Date', 'Profit/Losses']\n"
     ]
    }
   ],
   "source": [
    "# Setting path to budget_data.csv\n",
    "csv_path = Path('../Starter_Code/PyBank/Resources/budget_data.csv')\n",
    "\n",
    "months = 0\n",
    "total_profit_losses = 0\n",
    "greatest_inc = 0\n",
    "greatest_dec = 0\n",
    "avg_change = 0\n",
    "\n",
    "with open(csv_path, 'r') as f:\n",
    "    csvreader = csv.reader(f, delimiter=',')\n",
    "    \n",
    "    header = next(csvreader)\n",
    "    print(header)\n",
    "\n",
    "    \n",
    "    for row in csvreader:\n",
    "        \n",
    "        #The total number of months included in the dataset\n",
    "        date = str(row[0])\n",
    "        if isinstance(date, str):\n",
    "            months += 1\n",
    "\n",
    "        #The net total amount of Profit/Losses over the entire period\n",
    "        profit_losses=int(row[1])\n",
    "        total_profit_losses += profit_losses\n",
    "\n",
    "        #The average of the changes in Profit/Losses over the entire period\n",
    "        '''\n",
    "    differences = [profit_losses[i+1] - profit_losses[i] for i in range(profit_losses)-1]\n",
    "    avg_change = sum(differences) / len(differences)\n",
    "    print (avg_change)\n",
    "        '''\n",
    "        #The greatest increase in profits (date and amount) over the entire period\n",
    "        '''\n",
    "        my_list=[]\n",
    "        my_list.append(int(row[1]))\n",
    "        max_val = max(my_list)\n",
    "        \n",
    "------------------------------------------\n",
    "with open(csv_path, 'r') as file:\n",
    "   df_list = file.readlines()\n",
    "   max_val = max(df_list)\n",
    "\n",
    "        '''\n",
    "        #The greatest decrease in losses (date and amount) over the entire period\n",
    "\n",
    "        #min_value = min(my_list)"
   ]
  },
  {
   "cell_type": "code",
   "execution_count": 188,
   "metadata": {},
   "outputs": [
    {
     "name": "stdout",
     "output_type": "stream",
     "text": [
      "86\n",
      "38382578\n",
      "0\n",
      "0\n",
      "0\n"
     ]
    }
   ],
   "source": [
    "print(months)\n",
    "print(total_profit_losses)\n",
    "print(avg_change)\n",
    "print(greatest_inc)\n",
    "print(greatest_dec)\n"
   ]
  },
  {
   "cell_type": "code",
   "execution_count": 189,
   "metadata": {},
   "outputs": [],
   "source": [
    "output_path = 'output.txt'\n",
    "\n",
    "with open(output_path, 'w') as file:\n",
    "    file.write('Financial Analysis\\n')\n",
    "    file.write('----------------------------\\n')\n",
    "    file.write(f'Total Months:{months}\\n')\n",
    "    file.write(f'Total: {total_profit_losses}\\n')\n",
    "    file.write('Average  Change: Not found\\n')\n",
    "    file.write('Greatest Increase in Profits: Not found\\n')\n",
    "    file.write('Greatest Decrease in Profits: Not found\\n')"
   ]
  }
 ],
 "metadata": {
  "kernelspec": {
   "display_name": "Python 3",
   "language": "python",
   "name": "python3"
  },
  "language_info": {
   "codemirror_mode": {
    "name": "ipython",
    "version": 3
   },
   "file_extension": ".py",
   "mimetype": "text/x-python",
   "name": "python",
   "nbconvert_exporter": "python",
   "pygments_lexer": "ipython3",
   "version": "3.10.9"
  },
  "orig_nbformat": 4
 },
 "nbformat": 4,
 "nbformat_minor": 2
}
